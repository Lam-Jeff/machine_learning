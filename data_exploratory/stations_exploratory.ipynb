{
 "cells": [
  {
   "attachments": {},
   "cell_type": "markdown",
   "metadata": {},
   "source": [
    "### 1- Import"
   ]
  },
  {
   "cell_type": "code",
   "execution_count": 2,
   "metadata": {},
   "outputs": [],
   "source": [
    "%load_ext autoreload\n",
    "%autoreload 2\n",
    "import pandas as pd"
   ]
  },
  {
   "attachments": {},
   "cell_type": "markdown",
   "metadata": {},
   "source": [
    "### 2- Fouille de données"
   ]
  },
  {
   "cell_type": "code",
   "execution_count": 3,
   "metadata": {},
   "outputs": [],
   "source": [
    "FILE = '../data/raw/stations.csv'\n",
    "df = pd.read_csv(FILE)"
   ]
  },
  {
   "cell_type": "code",
   "execution_count": 4,
   "metadata": {},
   "outputs": [
    {
     "data": {
      "text/plain": [
       "(11035, 4)"
      ]
     },
     "execution_count": 4,
     "metadata": {},
     "output_type": "execute_result"
    }
   ],
   "source": [
    "df.shape"
   ]
  },
  {
   "cell_type": "code",
   "execution_count": 5,
   "metadata": {},
   "outputs": [
    {
     "data": {
      "text/html": [
       "<div>\n",
       "<style scoped>\n",
       "    .dataframe tbody tr th:only-of-type {\n",
       "        vertical-align: middle;\n",
       "    }\n",
       "\n",
       "    .dataframe tbody tr th {\n",
       "        vertical-align: top;\n",
       "    }\n",
       "\n",
       "    .dataframe thead th {\n",
       "        text-align: right;\n",
       "    }\n",
       "</style>\n",
       "<table border=\"1\" class=\"dataframe\">\n",
       "  <thead>\n",
       "    <tr style=\"text-align: right;\">\n",
       "      <th></th>\n",
       "      <th>id</th>\n",
       "      <th>unique_name</th>\n",
       "      <th>latitude</th>\n",
       "      <th>longitude</th>\n",
       "    </tr>\n",
       "  </thead>\n",
       "  <tbody>\n",
       "    <tr>\n",
       "      <th>0</th>\n",
       "      <td>1</td>\n",
       "      <td>Aalen (Stuttgarter Straße)</td>\n",
       "      <td>48.835296</td>\n",
       "      <td>10.092956</td>\n",
       "    </tr>\n",
       "    <tr>\n",
       "      <th>1</th>\n",
       "      <td>2</td>\n",
       "      <td>Aéroport Bordeaux-Mérignac</td>\n",
       "      <td>44.830226</td>\n",
       "      <td>-0.700883</td>\n",
       "    </tr>\n",
       "    <tr>\n",
       "      <th>2</th>\n",
       "      <td>3</td>\n",
       "      <td>Aéroport CDG</td>\n",
       "      <td>49.009900</td>\n",
       "      <td>2.559310</td>\n",
       "    </tr>\n",
       "    <tr>\n",
       "      <th>3</th>\n",
       "      <td>4</td>\n",
       "      <td>Aéroport de Berlin-Schönefeld</td>\n",
       "      <td>52.389446</td>\n",
       "      <td>13.520345</td>\n",
       "    </tr>\n",
       "    <tr>\n",
       "      <th>4</th>\n",
       "      <td>5</td>\n",
       "      <td>Aéroport de Dresden</td>\n",
       "      <td>51.123604</td>\n",
       "      <td>13.764737</td>\n",
       "    </tr>\n",
       "    <tr>\n",
       "      <th>5</th>\n",
       "      <td>6</td>\n",
       "      <td>Aéroport de Genève</td>\n",
       "      <td>46.230121</td>\n",
       "      <td>6.109288</td>\n",
       "    </tr>\n",
       "    <tr>\n",
       "      <th>6</th>\n",
       "      <td>7</td>\n",
       "      <td>Aéroport de Paris Beauvais-Tillé</td>\n",
       "      <td>49.462541</td>\n",
       "      <td>2.116935</td>\n",
       "    </tr>\n",
       "    <tr>\n",
       "      <th>7</th>\n",
       "      <td>8</td>\n",
       "      <td>Aéroport de Prague (bus station)</td>\n",
       "      <td>50.107533</td>\n",
       "      <td>14.269309</td>\n",
       "    </tr>\n",
       "    <tr>\n",
       "      <th>8</th>\n",
       "      <td>9</td>\n",
       "      <td>Aéroport de Tegel</td>\n",
       "      <td>52.553760</td>\n",
       "      <td>13.292310</td>\n",
       "    </tr>\n",
       "    <tr>\n",
       "      <th>9</th>\n",
       "      <td>10</td>\n",
       "      <td>Aéroport Marco Polo</td>\n",
       "      <td>45.505432</td>\n",
       "      <td>12.338465</td>\n",
       "    </tr>\n",
       "  </tbody>\n",
       "</table>\n",
       "</div>"
      ],
      "text/plain": [
       "   id                       unique_name   latitude  longitude\n",
       "0   1        Aalen (Stuttgarter Straße)  48.835296  10.092956\n",
       "1   2        Aéroport Bordeaux-Mérignac  44.830226  -0.700883\n",
       "2   3                     Aéroport CDG   49.009900   2.559310\n",
       "3   4    Aéroport de Berlin-Schönefeld   52.389446  13.520345\n",
       "4   5               Aéroport de Dresden  51.123604  13.764737\n",
       "5   6                Aéroport de Genève  46.230121   6.109288\n",
       "6   7  Aéroport de Paris Beauvais-Tillé  49.462541   2.116935\n",
       "7   8  Aéroport de Prague (bus station)  50.107533  14.269309\n",
       "8   9                 Aéroport de Tegel  52.553760  13.292310\n",
       "9  10               Aéroport Marco Polo  45.505432  12.338465"
      ]
     },
     "execution_count": 5,
     "metadata": {},
     "output_type": "execute_result"
    }
   ],
   "source": [
    "df.head(10)"
   ]
  },
  {
   "cell_type": "code",
   "execution_count": 6,
   "metadata": {},
   "outputs": [
    {
     "data": {
      "text/plain": [
       "id             False\n",
       "unique_name    False\n",
       "latitude       False\n",
       "longitude      False\n",
       "dtype: bool"
      ]
     },
     "execution_count": 6,
     "metadata": {},
     "output_type": "execute_result"
    }
   ],
   "source": [
    "df.isnull().any()"
   ]
  },
  {
   "cell_type": "code",
   "execution_count": 7,
   "metadata": {},
   "outputs": [],
   "source": [
    "PRECISION = 4\n",
    "index_duplicates = df[df.loc[:, ['latitude', 'longitude']].round(PRECISION).duplicated(keep=False)].index"
   ]
  },
  {
   "cell_type": "code",
   "execution_count": 8,
   "metadata": {},
   "outputs": [
    {
     "data": {
      "text/html": [
       "<div>\n",
       "<style scoped>\n",
       "    .dataframe tbody tr th:only-of-type {\n",
       "        vertical-align: middle;\n",
       "    }\n",
       "\n",
       "    .dataframe tbody tr th {\n",
       "        vertical-align: top;\n",
       "    }\n",
       "\n",
       "    .dataframe thead th {\n",
       "        text-align: right;\n",
       "    }\n",
       "</style>\n",
       "<table border=\"1\" class=\"dataframe\">\n",
       "  <thead>\n",
       "    <tr style=\"text-align: right;\">\n",
       "      <th></th>\n",
       "      <th>id</th>\n",
       "      <th>unique_name</th>\n",
       "      <th>latitude</th>\n",
       "      <th>longitude</th>\n",
       "    </tr>\n",
       "  </thead>\n",
       "  <tbody>\n",
       "    <tr>\n",
       "      <th>2677</th>\n",
       "      <td>2678</td>\n",
       "      <td>Olsztyn Biedronka</td>\n",
       "      <td>53.769217</td>\n",
       "      <td>20.436405</td>\n",
       "    </tr>\n",
       "    <tr>\n",
       "      <th>9552</th>\n",
       "      <td>9553</td>\n",
       "      <td>1.nám.</td>\n",
       "      <td>50.501106</td>\n",
       "      <td>13.638721</td>\n",
       "    </tr>\n",
       "    <tr>\n",
       "      <th>9573</th>\n",
       "      <td>9574</td>\n",
       "      <td>AN Frýdek</td>\n",
       "      <td>49.678421</td>\n",
       "      <td>18.351219</td>\n",
       "    </tr>\n",
       "    <tr>\n",
       "      <th>9581</th>\n",
       "      <td>9582</td>\n",
       "      <td>AN u hotelu Grand</td>\n",
       "      <td>49.193356</td>\n",
       "      <td>16.614252</td>\n",
       "    </tr>\n",
       "    <tr>\n",
       "      <th>9580</th>\n",
       "      <td>9581</td>\n",
       "      <td>AN, st. 12</td>\n",
       "      <td>49.299500</td>\n",
       "      <td>14.146120</td>\n",
       "    </tr>\n",
       "    <tr>\n",
       "      <th>...</th>\n",
       "      <td>...</td>\n",
       "      <td>...</td>\n",
       "      <td>...</td>\n",
       "      <td>...</td>\n",
       "    </tr>\n",
       "    <tr>\n",
       "      <th>1038</th>\n",
       "      <td>1039</td>\n",
       "      <td>Šrámkova</td>\n",
       "      <td>49.212509</td>\n",
       "      <td>17.614172</td>\n",
       "    </tr>\n",
       "    <tr>\n",
       "      <th>10290</th>\n",
       "      <td>10291</td>\n",
       "      <td>Šrámkova (MHD)</td>\n",
       "      <td>49.212509</td>\n",
       "      <td>17.614172</td>\n",
       "    </tr>\n",
       "    <tr>\n",
       "      <th>10299</th>\n",
       "      <td>10300</td>\n",
       "      <td>Štrba žel. st.</td>\n",
       "      <td>49.083229</td>\n",
       "      <td>20.066702</td>\n",
       "    </tr>\n",
       "    <tr>\n",
       "      <th>10419</th>\n",
       "      <td>10420</td>\n",
       "      <td>Žilina AS</td>\n",
       "      <td>49.224754</td>\n",
       "      <td>18.747557</td>\n",
       "    </tr>\n",
       "    <tr>\n",
       "      <th>10420</th>\n",
       "      <td>10421</td>\n",
       "      <td>Žilina žel. st.</td>\n",
       "      <td>49.226677</td>\n",
       "      <td>18.745958</td>\n",
       "    </tr>\n",
       "  </tbody>\n",
       "</table>\n",
       "<p>1400 rows × 4 columns</p>\n",
       "</div>"
      ],
      "text/plain": [
       "          id         unique_name   latitude  longitude\n",
       "2677    2678   Olsztyn Biedronka  53.769217  20.436405\n",
       "9552    9553              1.nám.  50.501106  13.638721\n",
       "9573    9574           AN Frýdek  49.678421  18.351219\n",
       "9581    9582   AN u hotelu Grand  49.193356  16.614252\n",
       "9580    9581          AN, st. 12  49.299500  14.146120\n",
       "...      ...                 ...        ...        ...\n",
       "1038    1039            Šrámkova  49.212509  17.614172\n",
       "10290  10291      Šrámkova (MHD)  49.212509  17.614172\n",
       "10299  10300      Štrba žel. st.  49.083229  20.066702\n",
       "10419  10420           Žilina AS  49.224754  18.747557\n",
       "10420  10421     Žilina žel. st.  49.226677  18.745958\n",
       "\n",
       "[1400 rows x 4 columns]"
      ]
     },
     "execution_count": 8,
     "metadata": {},
     "output_type": "execute_result"
    }
   ],
   "source": [
    "df.loc[index_duplicates].sort_values('unique_name')"
   ]
  },
  {
   "attachments": {},
   "cell_type": "markdown",
   "metadata": {},
   "source": [
    "### Analyses\n",
    "\n",
    "- id : identifiant\n",
    "- unique_name : nom du lieu\n",
    "- latitude\t: coordonnée\n",
    "- longitude : coordonnée\n",
    "\n",
    "On remarque des doublons quand on compare le couple (latitude, longitude). Les doublons possèdent un unique_name différent mais correspondent à la même localisation.<br/>\n",
    "Il ne manque aucune valeurs."
   ]
  },
  {
   "attachments": {},
   "cell_type": "markdown",
   "metadata": {},
   "source": [
    "### Data Preparation"
   ]
  },
  {
   "cell_type": "code",
   "execution_count": 9,
   "metadata": {},
   "outputs": [
    {
     "name": "stdout",
     "output_type": "stream",
     "text": [
      "BEFORE / AFTER DROPPING\n"
     ]
    },
    {
     "data": {
      "text/plain": [
       "((11035, 4), (10308, 4))"
      ]
     },
     "execution_count": 9,
     "metadata": {},
     "output_type": "execute_result"
    }
   ],
   "source": [
    "df_copy = df.copy()\n",
    "df_copy = df_copy[~df_copy.loc[:, ['latitude', 'longitude']].round(PRECISION).duplicated(keep='first')]\n",
    "print ('BEFORE / AFTER DROPPING')\n",
    "df.shape, df_copy.shape"
   ]
  },
  {
   "cell_type": "code",
   "execution_count": 10,
   "metadata": {},
   "outputs": [],
   "source": [
    "df_copy.to_csv('../data/cleaned/stations_cleaned.csv')"
   ]
  }
 ],
 "metadata": {
  "kernelspec": {
   "display_name": "Python 3",
   "language": "python",
   "name": "python3"
  },
  "language_info": {
   "codemirror_mode": {
    "name": "ipython",
    "version": 3
   },
   "file_extension": ".py",
   "mimetype": "text/x-python",
   "name": "python",
   "nbconvert_exporter": "python",
   "pygments_lexer": "ipython3",
   "version": "3.8.10"
  },
  "orig_nbformat": 4,
  "vscode": {
   "interpreter": {
    "hash": "916dbcbb3f70747c44a77c7bcd40155683ae19c65e1c03b4aa3499c5328201f1"
   }
  }
 },
 "nbformat": 4,
 "nbformat_minor": 2
}
