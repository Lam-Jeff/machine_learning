{
 "cells": [
  {
   "cell_type": "markdown",
   "metadata": {},
   "source": [
    "### 1- Import"
   ]
  },
  {
   "cell_type": "code",
   "execution_count": 60,
   "metadata": {},
   "outputs": [],
   "source": [
    "%reload_ext autoreload\n",
    "%autoreload 2\n",
    "import numpy as np\n",
    "import pandas as pd\n",
    "from process import *"
   ]
  },
  {
   "cell_type": "markdown",
   "metadata": {},
   "source": [
    "### 2 - Fouille de données"
   ]
  },
  {
   "cell_type": "code",
   "execution_count": 35,
   "metadata": {},
   "outputs": [],
   "source": [
    "FILE = '../data/raw/cities.csv'\n",
    "df = pd.read_csv(FILE)"
   ]
  },
  {
   "cell_type": "code",
   "execution_count": 36,
   "metadata": {},
   "outputs": [
    {
     "data": {
      "text/plain": [
       "(8040, 6)"
      ]
     },
     "execution_count": 36,
     "metadata": {},
     "output_type": "execute_result"
    }
   ],
   "source": [
    "df.shape"
   ]
  },
  {
   "cell_type": "code",
   "execution_count": 37,
   "metadata": {},
   "outputs": [
    {
     "data": {
      "text/html": [
       "<div>\n",
       "<style scoped>\n",
       "    .dataframe tbody tr th:only-of-type {\n",
       "        vertical-align: middle;\n",
       "    }\n",
       "\n",
       "    .dataframe tbody tr th {\n",
       "        vertical-align: top;\n",
       "    }\n",
       "\n",
       "    .dataframe thead th {\n",
       "        text-align: right;\n",
       "    }\n",
       "</style>\n",
       "<table border=\"1\" class=\"dataframe\">\n",
       "  <thead>\n",
       "    <tr style=\"text-align: right;\">\n",
       "      <th></th>\n",
       "      <th>id</th>\n",
       "      <th>local_name</th>\n",
       "      <th>unique_name</th>\n",
       "      <th>latitude</th>\n",
       "      <th>longitude</th>\n",
       "      <th>population</th>\n",
       "    </tr>\n",
       "  </thead>\n",
       "  <tbody>\n",
       "    <tr>\n",
       "      <th>0</th>\n",
       "      <td>5159</td>\n",
       "      <td>Padua, Veneto, Italia</td>\n",
       "      <td>padua</td>\n",
       "      <td>45.406435</td>\n",
       "      <td>11.876761</td>\n",
       "      <td>209678.0</td>\n",
       "    </tr>\n",
       "    <tr>\n",
       "      <th>1</th>\n",
       "      <td>76</td>\n",
       "      <td>Barcelona, Cataluña, España</td>\n",
       "      <td>barcelona</td>\n",
       "      <td>41.385064</td>\n",
       "      <td>2.173404</td>\n",
       "      <td>1611822.0</td>\n",
       "    </tr>\n",
       "    <tr>\n",
       "      <th>2</th>\n",
       "      <td>81</td>\n",
       "      <td>Basel, Basel-Stadt, Schweiz</td>\n",
       "      <td>basel</td>\n",
       "      <td>47.593437</td>\n",
       "      <td>7.619812</td>\n",
       "      <td>NaN</td>\n",
       "    </tr>\n",
       "    <tr>\n",
       "      <th>3</th>\n",
       "      <td>259</td>\n",
       "      <td>Erlangen, Bayern, Deutschland</td>\n",
       "      <td>erlangen</td>\n",
       "      <td>49.589674</td>\n",
       "      <td>11.011961</td>\n",
       "      <td>105412.0</td>\n",
       "    </tr>\n",
       "    <tr>\n",
       "      <th>4</th>\n",
       "      <td>11979</td>\n",
       "      <td>Balș, Olt, România</td>\n",
       "      <td>balș</td>\n",
       "      <td>44.353354</td>\n",
       "      <td>24.095672</td>\n",
       "      <td>NaN</td>\n",
       "    </tr>\n",
       "    <tr>\n",
       "      <th>5</th>\n",
       "      <td>10314</td>\n",
       "      <td>Град Пожаревац, Централна Србија, Србија</td>\n",
       "      <td>град-пожаревац</td>\n",
       "      <td>44.619095</td>\n",
       "      <td>21.176522</td>\n",
       "      <td>NaN</td>\n",
       "    </tr>\n",
       "    <tr>\n",
       "      <th>6</th>\n",
       "      <td>11155</td>\n",
       "      <td>Bussy-Lettrée, Grand-Est, France</td>\n",
       "      <td>bussy-lettree</td>\n",
       "      <td>48.804600</td>\n",
       "      <td>4.259500</td>\n",
       "      <td>NaN</td>\n",
       "    </tr>\n",
       "    <tr>\n",
       "      <th>7</th>\n",
       "      <td>11788</td>\n",
       "      <td>Chamonix, Valle d'Aosta, Italia</td>\n",
       "      <td>chamonix-italia</td>\n",
       "      <td>45.817156</td>\n",
       "      <td>6.952375</td>\n",
       "      <td>NaN</td>\n",
       "    </tr>\n",
       "    <tr>\n",
       "      <th>8</th>\n",
       "      <td>11984</td>\n",
       "      <td>Borger, Texas, United States of America</td>\n",
       "      <td>borger</td>\n",
       "      <td>35.667820</td>\n",
       "      <td>-101.397388</td>\n",
       "      <td>NaN</td>\n",
       "    </tr>\n",
       "    <tr>\n",
       "      <th>9</th>\n",
       "      <td>11825</td>\n",
       "      <td>okres Zvolen, Banskobystrický kraj, Slovensko</td>\n",
       "      <td>okres-zvolen</td>\n",
       "      <td>48.576181</td>\n",
       "      <td>19.137116</td>\n",
       "      <td>NaN</td>\n",
       "    </tr>\n",
       "  </tbody>\n",
       "</table>\n",
       "</div>"
      ],
      "text/plain": [
       "      id                                     local_name      unique_name  \\\n",
       "0   5159                          Padua, Veneto, Italia            padua   \n",
       "1     76                    Barcelona, Cataluña, España        barcelona   \n",
       "2     81                    Basel, Basel-Stadt, Schweiz            basel   \n",
       "3    259                  Erlangen, Bayern, Deutschland         erlangen   \n",
       "4  11979                             Balș, Olt, România             balș   \n",
       "5  10314       Град Пожаревац, Централна Србија, Србија   град-пожаревац   \n",
       "6  11155               Bussy-Lettrée, Grand-Est, France    bussy-lettree   \n",
       "7  11788                Chamonix, Valle d'Aosta, Italia  chamonix-italia   \n",
       "8  11984        Borger, Texas, United States of America           borger   \n",
       "9  11825  okres Zvolen, Banskobystrický kraj, Slovensko     okres-zvolen   \n",
       "\n",
       "    latitude   longitude  population  \n",
       "0  45.406435   11.876761    209678.0  \n",
       "1  41.385064    2.173404   1611822.0  \n",
       "2  47.593437    7.619812         NaN  \n",
       "3  49.589674   11.011961    105412.0  \n",
       "4  44.353354   24.095672         NaN  \n",
       "5  44.619095   21.176522         NaN  \n",
       "6  48.804600    4.259500         NaN  \n",
       "7  45.817156    6.952375         NaN  \n",
       "8  35.667820 -101.397388         NaN  \n",
       "9  48.576181   19.137116         NaN  "
      ]
     },
     "execution_count": 37,
     "metadata": {},
     "output_type": "execute_result"
    }
   ],
   "source": [
    "df.head(10)"
   ]
  },
  {
   "cell_type": "code",
   "execution_count": 38,
   "metadata": {},
   "outputs": [
    {
     "data": {
      "text/plain": [
       "(0, 0)"
      ]
     },
     "execution_count": 38,
     "metadata": {},
     "output_type": "execute_result"
    }
   ],
   "source": [
    "df['latitude'].isnull().sum(), df['longitude'].isnull().sum()"
   ]
  },
  {
   "cell_type": "code",
   "execution_count": 39,
   "metadata": {},
   "outputs": [
    {
     "data": {
      "text/plain": [
       "id               int64\n",
       "local_name      object\n",
       "unique_name     object\n",
       "latitude       float64\n",
       "longitude      float64\n",
       "population     float64\n",
       "dtype: object"
      ]
     },
     "execution_count": 39,
     "metadata": {},
     "output_type": "execute_result"
    }
   ],
   "source": [
    "df.dtypes"
   ]
  },
  {
   "attachments": {},
   "cell_type": "markdown",
   "metadata": {},
   "source": [
    "### Analyses\n",
    "- id : identifiant\n",
    "- local_name : triplé -> lieu, région, pays\n",
    "- unique_name : nom du lieu\n",
    "- latitude : coordonnée\n",
    "- longitude\t: coordonnée\n",
    "- population : nombres d'habitants \n",
    "\n",
    "Plusieurs observations : \n",
    "- Certains lieux ne représentent pas la ville mais une localisation plus précise (exemple : ligne 23 'Aix En Provence Gare Routiere'). Si on tente d'automatiser la recherche du nombre d'habitants à partir de la colonne local_name ou unique_name, il se peut que l'on n'obtienne aucun résultat.\n",
    "- De ce fait, il est plutot logique d'avoir autant de valeur NaN dans la colonne population.\n",
    "- On remarque la présence de plusieurs langues / alphabets dans la colonne local_name. Il se peut qu'il y ait des doublons. (exemple : Barcelona, Barcelone)"
   ]
  },
  {
   "attachments": {},
   "cell_type": "markdown",
   "metadata": {},
   "source": [
    "### Data Preparation"
   ]
  },
  {
   "cell_type": "code",
   "execution_count": 41,
   "metadata": {},
   "outputs": [],
   "source": [
    "df_copy = df.copy()"
   ]
  },
  {
   "cell_type": "code",
   "execution_count": 42,
   "metadata": {},
   "outputs": [],
   "source": [
    "PRECISION = 4\n",
    "index_duplicates = df_copy[df_copy.loc[:, ['latitude', 'longitude']].round(PRECISION).duplicated(keep=False)].index"
   ]
  },
  {
   "cell_type": "code",
   "execution_count": 43,
   "metadata": {},
   "outputs": [],
   "source": [
    "column_city = np.vectorize(get_city)(df_copy['latitude'], df_copy['longitude'])"
   ]
  },
  {
   "cell_type": "code",
   "execution_count": 44,
   "metadata": {},
   "outputs": [],
   "source": [
    "df_copy['city'] = column_city"
   ]
  },
  {
   "cell_type": "code",
   "execution_count": 45,
   "metadata": {},
   "outputs": [
    {
     "data": {
      "text/html": [
       "<div>\n",
       "<style scoped>\n",
       "    .dataframe tbody tr th:only-of-type {\n",
       "        vertical-align: middle;\n",
       "    }\n",
       "\n",
       "    .dataframe tbody tr th {\n",
       "        vertical-align: top;\n",
       "    }\n",
       "\n",
       "    .dataframe thead th {\n",
       "        text-align: right;\n",
       "    }\n",
       "</style>\n",
       "<table border=\"1\" class=\"dataframe\">\n",
       "  <thead>\n",
       "    <tr style=\"text-align: right;\">\n",
       "      <th></th>\n",
       "      <th>id</th>\n",
       "      <th>local_name</th>\n",
       "      <th>unique_name</th>\n",
       "      <th>latitude</th>\n",
       "      <th>longitude</th>\n",
       "      <th>population</th>\n",
       "      <th>city</th>\n",
       "    </tr>\n",
       "  </thead>\n",
       "  <tbody>\n",
       "    <tr>\n",
       "      <th>796</th>\n",
       "      <td>3744</td>\n",
       "      <td>'s-Hertogenbosch, Noord-Brabant, Nederland</td>\n",
       "      <td>s-hertogenbosch</td>\n",
       "      <td>51.697816</td>\n",
       "      <td>5.303675</td>\n",
       "      <td>NaN</td>\n",
       "      <td>'s-Hertogenbosch</td>\n",
       "    </tr>\n",
       "    <tr>\n",
       "      <th>4423</th>\n",
       "      <td>8836</td>\n",
       "      <td>s Hertogenbosch (Bois-Le-Duc), Noord-Brabant, ...</td>\n",
       "      <td>s-hertogenbosch-</td>\n",
       "      <td>51.690600</td>\n",
       "      <td>5.295000</td>\n",
       "      <td>NaN</td>\n",
       "      <td>'s-Hertogenbosch</td>\n",
       "    </tr>\n",
       "    <tr>\n",
       "      <th>2432</th>\n",
       "      <td>218</td>\n",
       "      <td>Den Bosch, Noord-Brabant, Nederland</td>\n",
       "      <td>den-bosch</td>\n",
       "      <td>51.697816</td>\n",
       "      <td>5.303675</td>\n",
       "      <td>NaN</td>\n",
       "      <td>'s-Hertogenbosch</td>\n",
       "    </tr>\n",
       "    <tr>\n",
       "      <th>3742</th>\n",
       "      <td>9449</td>\n",
       "      <td>Bois-Le-Duc, Noord-Brabant, Nederland</td>\n",
       "      <td>bois-le-duc</td>\n",
       "      <td>51.690600</td>\n",
       "      <td>5.295000</td>\n",
       "      <td>NaN</td>\n",
       "      <td>'s-Hertogenbosch</td>\n",
       "    </tr>\n",
       "    <tr>\n",
       "      <th>7869</th>\n",
       "      <td>7035</td>\n",
       "      <td>La Coruna San Cristobal, Galicia, España</td>\n",
       "      <td>la-coruna-san-cristobal</td>\n",
       "      <td>43.352800</td>\n",
       "      <td>-8.409700</td>\n",
       "      <td>NaN</td>\n",
       "      <td>A Coruña</td>\n",
       "    </tr>\n",
       "    <tr>\n",
       "      <th>...</th>\n",
       "      <td>...</td>\n",
       "      <td>...</td>\n",
       "      <td>...</td>\n",
       "      <td>...</td>\n",
       "      <td>...</td>\n",
       "      <td>...</td>\n",
       "      <td>...</td>\n",
       "    </tr>\n",
       "    <tr>\n",
       "      <th>7370</th>\n",
       "      <td>9370</td>\n",
       "      <td>Чернівці, Чернівецька область, Україна</td>\n",
       "      <td>чернівці</td>\n",
       "      <td>48.286470</td>\n",
       "      <td>25.937653</td>\n",
       "      <td>NaN</td>\n",
       "      <td>Чернівецька міська громада</td>\n",
       "    </tr>\n",
       "    <tr>\n",
       "      <th>7846</th>\n",
       "      <td>11883</td>\n",
       "      <td>Choumen, Choumla, Bulgaria</td>\n",
       "      <td>choumen</td>\n",
       "      <td>43.271300</td>\n",
       "      <td>26.936000</td>\n",
       "      <td>NaN</td>\n",
       "      <td>Шумен</td>\n",
       "    </tr>\n",
       "    <tr>\n",
       "      <th>1440</th>\n",
       "      <td>2412</td>\n",
       "      <td>Shumen, Shumen, Bulgaria</td>\n",
       "      <td>shumen</td>\n",
       "      <td>43.271272</td>\n",
       "      <td>26.936025</td>\n",
       "      <td>NaN</td>\n",
       "      <td>Шумен</td>\n",
       "    </tr>\n",
       "    <tr>\n",
       "      <th>122</th>\n",
       "      <td>1762</td>\n",
       "      <td>Horbanivka, Poltava region, Ukraine</td>\n",
       "      <td>horbanivka</td>\n",
       "      <td>49.556920</td>\n",
       "      <td>34.489860</td>\n",
       "      <td>NaN</td>\n",
       "      <td>Щербанівська сільська громада</td>\n",
       "    </tr>\n",
       "    <tr>\n",
       "      <th>7318</th>\n",
       "      <td>11682</td>\n",
       "      <td>Горбанівка, Полтавська область, Україна</td>\n",
       "      <td>горбанівка</td>\n",
       "      <td>49.556900</td>\n",
       "      <td>34.489900</td>\n",
       "      <td>NaN</td>\n",
       "      <td>Щербанівська сільська громада</td>\n",
       "    </tr>\n",
       "  </tbody>\n",
       "</table>\n",
       "<p>1930 rows × 7 columns</p>\n",
       "</div>"
      ],
      "text/plain": [
       "         id                                         local_name  \\\n",
       "796    3744         's-Hertogenbosch, Noord-Brabant, Nederland   \n",
       "4423   8836  s Hertogenbosch (Bois-Le-Duc), Noord-Brabant, ...   \n",
       "2432    218                Den Bosch, Noord-Brabant, Nederland   \n",
       "3742   9449              Bois-Le-Duc, Noord-Brabant, Nederland   \n",
       "7869   7035           La Coruna San Cristobal, Galicia, España   \n",
       "...     ...                                                ...   \n",
       "7370   9370             Чернівці, Чернівецька область, Україна   \n",
       "7846  11883                         Choumen, Choumla, Bulgaria   \n",
       "1440   2412                           Shumen, Shumen, Bulgaria   \n",
       "122    1762                Horbanivka, Poltava region, Ukraine   \n",
       "7318  11682            Горбанівка, Полтавська область, Україна   \n",
       "\n",
       "                  unique_name   latitude  longitude  population  \\\n",
       "796           s-hertogenbosch  51.697816   5.303675         NaN   \n",
       "4423         s-hertogenbosch-  51.690600   5.295000         NaN   \n",
       "2432                den-bosch  51.697816   5.303675         NaN   \n",
       "3742              bois-le-duc  51.690600   5.295000         NaN   \n",
       "7869  la-coruna-san-cristobal  43.352800  -8.409700         NaN   \n",
       "...                       ...        ...        ...         ...   \n",
       "7370                 чернівці  48.286470  25.937653         NaN   \n",
       "7846                  choumen  43.271300  26.936000         NaN   \n",
       "1440                   shumen  43.271272  26.936025         NaN   \n",
       "122                horbanivka  49.556920  34.489860         NaN   \n",
       "7318               горбанівка  49.556900  34.489900         NaN   \n",
       "\n",
       "                               city  \n",
       "796                's-Hertogenbosch  \n",
       "4423               's-Hertogenbosch  \n",
       "2432               's-Hertogenbosch  \n",
       "3742               's-Hertogenbosch  \n",
       "7869                       A Coruña  \n",
       "...                             ...  \n",
       "7370     Чернівецька міська громада  \n",
       "7846                          Шумен  \n",
       "1440                          Шумен  \n",
       "122   Щербанівська сільська громада  \n",
       "7318  Щербанівська сільська громада  \n",
       "\n",
       "[1930 rows x 7 columns]"
      ]
     },
     "execution_count": 45,
     "metadata": {},
     "output_type": "execute_result"
    }
   ],
   "source": [
    "df_copy.loc[index_duplicates].sort_values('city')"
   ]
  },
  {
   "attachments": {},
   "cell_type": "markdown",
   "metadata": {},
   "source": [
    "Il y a bel et bien présence de doublons. Notre hypothèse sur les langues / alphabets est juste. <br/>\n",
    "Par exemple, Bois-Le-Duc apparait 4 fois : <br/>\n",
    "- En français\n",
    "- En allemand\n",
    "- En Néerlandais\n",
    "- En Néerlandais avec une structure différente (la traduction a été ajoutée)\n",
    "\n",
    "On pourrait choisir de supprimer les doublons. En contrepartie, il faudra fusionner les données dans les autres fichiers puisque qu'on suprrime des id."
   ]
  },
  {
   "cell_type": "code",
   "execution_count": 46,
   "metadata": {},
   "outputs": [],
   "source": [
    "df_copy = df_copy.drop_duplicates(subset=['city'])"
   ]
  },
  {
   "cell_type": "code",
   "execution_count": 47,
   "metadata": {},
   "outputs": [],
   "source": [
    "percent_missing_before_merge = df_copy['population'].isnull().sum() * 100 / len(df_copy)"
   ]
  },
  {
   "cell_type": "code",
   "execution_count": 61,
   "metadata": {},
   "outputs": [],
   "source": [
    "column_population_unique_name = df_copy.apply(lambda x: get_population(x.unique_name) if pd.isnull(x.population) else x.population, axis=1)\n",
    "column_population_city = df_copy.apply(lambda x: get_population(x.city) if pd.isnull(x.population) else x.population, axis=1)"
   ]
  },
  {
   "cell_type": "code",
   "execution_count": 62,
   "metadata": {},
   "outputs": [],
   "source": [
    "df_population = pd.DataFrame()\n",
    "df_population['city_pop'] = column_population_city\n",
    "df_population['unique_name_pop'] = column_population_unique_name"
   ]
  },
  {
   "cell_type": "code",
   "execution_count": 64,
   "metadata": {},
   "outputs": [],
   "source": [
    "df_population['city_pop'] = df_population['unique_name_pop'].where(pd.isnull(df_population['city_pop']),df_population['city_pop'])"
   ]
  },
  {
   "cell_type": "code",
   "execution_count": 65,
   "metadata": {},
   "outputs": [],
   "source": [
    "df_copy['population'] = df_population['city_pop'].where(pd.isnull(df_copy['population']),df_copy['population'])"
   ]
  },
  {
   "cell_type": "code",
   "execution_count": 66,
   "metadata": {},
   "outputs": [
    {
     "name": "stdout",
     "output_type": "stream",
     "text": [
      "pourcentage de valeurs manquantes dans la colonne population AVANT / APRES fusion: 91.49550706033376 / 85.49422336328627 %\n"
     ]
    }
   ],
   "source": [
    "percent_missing_after_merge = df_copy['population'].isnull().sum() * 100 / len(df_copy)\n",
    "print (f\"pourcentage de valeurs manquantes dans la colonne population AVANT / APRES fusion: {percent_missing_before_merge} / {percent_missing_after_merge} %\")"
   ]
  },
  {
   "cell_type": "code",
   "execution_count": 67,
   "metadata": {},
   "outputs": [],
   "source": [
    "df_copy.to_csv('../data/cleaned/cities_cleaned.csv')"
   ]
  }
 ],
 "metadata": {
  "kernelspec": {
   "display_name": "Python 3",
   "language": "python",
   "name": "python3"
  },
  "language_info": {
   "codemirror_mode": {
    "name": "ipython",
    "version": 3
   },
   "file_extension": ".py",
   "mimetype": "text/x-python",
   "name": "python",
   "nbconvert_exporter": "python",
   "pygments_lexer": "ipython3",
   "version": "3.8.10"
  },
  "orig_nbformat": 4,
  "vscode": {
   "interpreter": {
    "hash": "916dbcbb3f70747c44a77c7bcd40155683ae19c65e1c03b4aa3499c5328201f1"
   }
  }
 },
 "nbformat": 4,
 "nbformat_minor": 2
}
