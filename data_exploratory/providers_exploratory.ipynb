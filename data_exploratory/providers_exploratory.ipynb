{
 "cells": [
  {
   "attachments": {},
   "cell_type": "markdown",
   "metadata": {},
   "source": [
    "### 1- Imports"
   ]
  },
  {
   "cell_type": "code",
   "execution_count": null,
   "metadata": {},
   "outputs": [],
   "source": [
    "%load_ext autoreload\n",
    "%autoreload 2\n",
    "import pandas as pd\n",
    "import matplotlib.pyplot as plt"
   ]
  },
  {
   "attachments": {},
   "cell_type": "markdown",
   "metadata": {},
   "source": [
    "### 2- Fouille de données"
   ]
  },
  {
   "cell_type": "code",
   "execution_count": null,
   "metadata": {},
   "outputs": [],
   "source": [
    "FILE = '../data/raw/providers.csv'\n",
    "df = pd.read_csv(FILE)"
   ]
  },
  {
   "cell_type": "code",
   "execution_count": null,
   "metadata": {},
   "outputs": [],
   "source": [
    "df.shape"
   ]
  },
  {
   "cell_type": "code",
   "execution_count": null,
   "metadata": {},
   "outputs": [],
   "source": [
    "df.head(10)"
   ]
  },
  {
   "cell_type": "code",
   "execution_count": null,
   "metadata": {},
   "outputs": [],
   "source": [
    "df.dtypes"
   ]
  },
  {
   "cell_type": "code",
   "execution_count": null,
   "metadata": {},
   "outputs": [],
   "source": [
    "df.isna().any()"
   ]
  },
  {
   "cell_type": "code",
   "execution_count": null,
   "metadata": {},
   "outputs": [],
   "source": [
    "sorted(df.company_id.unique()), df.company_id.nunique()"
   ]
  },
  {
   "cell_type": "code",
   "execution_count": null,
   "metadata": {},
   "outputs": [],
   "source": [
    "df_companies = df.query('provider_id.isnull()')[['company_id', 'fullname']]\n",
    "print (df_companies)"
   ]
  },
  {
   "cell_type": "code",
   "execution_count": null,
   "metadata": {},
   "outputs": [],
   "source": [
    "df_groupby_count_providers = df.groupby('company_id')['provider_id'].nunique()\n",
    "df_to_plot = df_companies.join (df_groupby_count_providers, on=['company_id'])\n",
    "ax = df_to_plot.plot(kind='barh'\n",
    "                    , x='fullname'\n",
    "                    , y='provider_id'\n",
    "                    , figsize= (10,10))\n",
    "\n",
    "ax.set_xlabel('Nombres de transports')\n",
    "ax.set_title('répartition des sous- compagnies en fonction des compagnies')\n",
    "ax.bar_label(ax.containers[0])\n",
    "plt.show()"
   ]
  },
  {
   "cell_type": "code",
   "execution_count": null,
   "metadata": {},
   "outputs": [],
   "source": [
    "df_groupby_transport_type = df.groupby('transport_type')['company_id'].nunique()\n",
    "ax = df_groupby_transport_type.plot(kind='pie'\n",
    "                                    , figsize= (10,10)\n",
    "                                    , title='Distribution du type de service'\n",
    "                                    , ylabel=''\n",
    "                                    , xlabel=''\n",
    "                                    , autopct='%.2f'\n",
    "                                    )\n",
    "plt.show()"
   ]
  },
  {
   "cell_type": "code",
   "execution_count": null,
   "metadata": {},
   "outputs": [],
   "source": [
    "df_groupby_count_transport_type = df.groupby('transport_type')['transport_type'].count()\n",
    "\n",
    "ax = df_groupby_count_transport_type.plot.barh(figsize = (10,10))\n",
    "\n",
    "ax.set_xlabel('Nombres de transports')\n",
    "ax.set_title('Nombres de transports en fonction du type')\n",
    "ax.bar_label(ax.containers[0])\n",
    "plt.show()\n"
   ]
  },
  {
   "cell_type": "code",
   "execution_count": null,
   "metadata": {},
   "outputs": [],
   "source": [
    "df_copy = df.copy()\n",
    "dict_to_replace = {}\n",
    "for i in df_companies['company_id']:\n",
    "    dict_to_replace[i] = df_companies.loc[df_companies['company_id'] == i].fullname\n",
    "df_copy = df_copy.replace ({'company_id':dict_to_replace})"
   ]
  },
  {
   "cell_type": "code",
   "execution_count": null,
   "metadata": {},
   "outputs": [],
   "source": [
    "df_groupby_count_company_transport = df_copy.groupby(['company_id', 'transport_type'] )['transport_type'].count()"
   ]
  },
  {
   "cell_type": "code",
   "execution_count": null,
   "metadata": {},
   "outputs": [],
   "source": [
    "ax = df_groupby_count_company_transport.unstack().plot(kind='bar'\n",
    "                                                        , layout=(4, 1)\n",
    "                                                        , figsize=(10,10)\n",
    "                                                        , subplots=True\n",
    "                                                        , title='Répartition des types de transport en fonction des compagnies'\n",
    "                                                        , rot=30)\n",
    "plt.show()"
   ]
  },
  {
   "cell_type": "code",
   "execution_count": null,
   "metadata": {},
   "outputs": [],
   "source": [
    "fig, ax = plt.subplots(figsize=(10, 10)\n",
    "                        , nrows=2\n",
    "                        , ncols=2)\n",
    "axe = ax.ravel()\n",
    "titles = ['Has wifi ?', 'Has Plug ?', 'has adjustable seats ?', 'Has bicycle ?']\n",
    "for i, column in enumerate(['has_wifi', 'has_plug', 'has_adjustable_seats', 'has_bicycle']):\n",
    "    df_copy[column].value_counts().plot(kind='pie'\n",
    "                                        , title=titles[i]\n",
    "                                        , ylabel=''\n",
    "                                        , xlabel=''\n",
    "                                        , autopct='%.2f'\n",
    "                                        , ax=axe[i])\n",
    "plt.show()\n"
   ]
  },
  {
   "cell_type": "code",
   "execution_count": null,
   "metadata": {},
   "outputs": [],
   "source": [
    "df_duplicated = df[df.duplicated([\"fullname\",\"has_wifi\",\"has_plug\",\"has_adjustable_seats\",\"has_bicycle\",\"transport_type\"], keep=False)]\n",
    "print (df_duplicated)"
   ]
  },
  {
   "attachments": {},
   "cell_type": "markdown",
   "metadata": {},
   "source": [
    "### Analyses\n",
    "\n",
    "- id : identifiant\n",
    "- company_id : identifiant de la compagnie\n",
    "- provider_id : identifiant de la sous compagnie\n",
    "- name : nom\n",
    "- fullname : nom officiel \n",
    "- has_wifi : wifi présent ou non\n",
    "- has_plug : prise présente ou non\n",
    "- has_adjustable_seats : siège ajustable ou non\n",
    "- has_bicycle : porte vélo ou non \n",
    "- transport_type : type de transport\n",
    "\n",
    "Lorsque une ligne contient un company_id et pas de provider_id, il s'agit de la compagnie qui englobe des sous-compagnies. <br/>\n",
    "Il y a 14 compagnies : <br/>\n",
    "[Ouibus, Deinbus.de, Infobus, Student Agency, Flixbus, DriiveMe, Alsa, Distribusion, Voyages SNCF, Transdev, Blablacar, Vatry, Beauval, idVroom] <br/>\n",
    "Distribusion détient plus de 90% des sous compagnies. Le reste est partagé avec Voyage SNCF et Transdev. <br/>\n",
    "Près de 94% des transports sont des bus. <br/>\n",
    "73% des compagnies proposent des bus comme moyen de locomotion. <br/>\n",
    "On remarque des monopoles : bus (Distribusion), car (DriiveMe) et train (Voyages SNCF) <br/>\n",
    "Le carpooling est partagé entre IdVroom et Blablacar.\n",
    "\n",
    "Parmi les providers, on remarque la présence de 2 doublons : TER et Intercités. D'après le nom donné à ces doublons, il se peut que certaines données proviennent de différentes sources, ce qui expliquerait la multiplication de noms pour un même provider. <br/>"
   ]
  },
  {
   "attachments": {},
   "cell_type": "markdown",
   "metadata": {},
   "source": [
    "### Data Preparation\n"
   ]
  },
  {
   "cell_type": "code",
   "execution_count": null,
   "metadata": {},
   "outputs": [],
   "source": [
    "df_copy = df_copy.drop_duplicates(subset=[\"fullname\",\"has_wifi\",\"has_plug\",\"has_adjustable_seats\",\"has_bicycle\",\"transport_type\"])"
   ]
  },
  {
   "cell_type": "code",
   "execution_count": null,
   "metadata": {},
   "outputs": [],
   "source": [
    "df_copy.to_csv('../data/cleaned/providers_cleaned.csv')"
   ]
  }
 ],
 "metadata": {
  "kernelspec": {
   "display_name": "Python 3",
   "language": "python",
   "name": "python3"
  },
  "language_info": {
   "codemirror_mode": {
    "name": "ipython",
    "version": 3
   },
   "file_extension": ".py",
   "mimetype": "text/x-python",
   "name": "python",
   "nbconvert_exporter": "python",
   "pygments_lexer": "ipython3",
   "version": "3.8.10"
  },
  "orig_nbformat": 4,
  "vscode": {
   "interpreter": {
    "hash": "916dbcbb3f70747c44a77c7bcd40155683ae19c65e1c03b4aa3499c5328201f1"
   }
  }
 },
 "nbformat": 4,
 "nbformat_minor": 2
}
