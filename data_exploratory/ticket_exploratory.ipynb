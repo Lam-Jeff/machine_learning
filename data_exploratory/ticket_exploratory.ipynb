{
 "cells": [
  {
   "attachments": {},
   "cell_type": "markdown",
   "metadata": {},
   "source": [
    "# Objectifs :\n",
    "- Extraire des infos intéressantes type :\n",
    "    - prix min, moyen et max\n",
    "    - durée min, max, moyenne par trajet\n",
    "- Différence de prix moyen et durée selon le train, le bus et le covoit selon la distance du trajet\n",
    "    \n",
    "    Par exemple (0-200km, 201-800km, 800-2000km, 2000+km)\n",
    "    \n",
    "- Le plus d’infos bonus !\n",
    "    \n",
    "    Comme par exemple :\n",
    "    \n",
    "    *Graphes, prédictions de prix, rapport des soucis relevés dans les données, visualisation interactive, sourcing & utilisation de données externes pertinentes, utilisation d’API externes*"
   ]
  },
  {
   "attachments": {},
   "cell_type": "markdown",
   "metadata": {},
   "source": [
    "# Info utiles sur les fichiers CSV :\n",
    "- ***ticket_data.csv*** : Contenant un historique de ticket (une ligne => une proposition de ticket sur tictactrip)\n",
    "- ***cities.csv*** les villes desservies par tictactrip (lien grâce aux colonnes o_city (origin_city), d_city (destination_city) de ticket_data)\n",
    "- ***stations.csv*** les stations desservies par tictactrip (lien via o_station, d_station de ticket_data)\n",
    "- ***providers.csv*** infos sur les différents providers (lien via company de ticket_data)Un provider est une \"sous-compagnie\". Par exemple TGV et TER sont deux providers de VSC (voyages-sncf)."
   ]
  },
  {
   "attachments": {},
   "cell_type": "markdown",
   "metadata": {},
   "source": [
    "### 1- Import"
   ]
  },
  {
   "cell_type": "code",
   "execution_count": null,
   "metadata": {},
   "outputs": [],
   "source": [
    "%load_ext autoreload\n",
    "%autoreload 2\n",
    "import seaborn as sns\n",
    "import pandas as pd\n",
    "import matplotlib.pyplot as plt\n",
    "import numpy as np\n",
    "\n",
    "from sklearn.tree import DecisionTreeRegressor\n",
    "from sklearn.ensemble import RandomForestRegressor\n",
    "from sklearn.linear_model import LinearRegression, Ridge, Lasso\n",
    "from sklearn import metrics\n",
    "from sklearn.model_selection import cross_validate, GridSearchCV, KFold\n",
    "\n",
    "from process import *"
   ]
  },
  {
   "attachments": {},
   "cell_type": "markdown",
   "metadata": {},
   "source": [
    "### 2- Fouille de données"
   ]
  },
  {
   "cell_type": "code",
   "execution_count": null,
   "metadata": {},
   "outputs": [],
   "source": [
    "TICKET_FILE = '../data/raw/ticket_data.csv'\n",
    "PROVIDERS_FILE = '../data/raw/providers.csv'\n",
    "STATIONS_FILE = '../data/raw/stations.csv'\n",
    "CITIES_FILE = '../data/raw/cities.csv'\n",
    "df = pd.read_csv(TICKET_FILE)\n",
    "df_providers = pd.read_csv(PROVIDERS_FILE)\n",
    "df_stations = pd.read_csv(STATIONS_FILE)\n",
    "df_cities = pd.read_csv(CITIES_FILE)"
   ]
  },
  {
   "cell_type": "code",
   "execution_count": null,
   "metadata": {},
   "outputs": [],
   "source": [
    "df.shape"
   ]
  },
  {
   "cell_type": "code",
   "execution_count": null,
   "metadata": {},
   "outputs": [],
   "source": [
    "df.head(10)"
   ]
  },
  {
   "cell_type": "code",
   "execution_count": null,
   "metadata": {},
   "outputs": [],
   "source": [
    "len(df[df['arrival_ts'] < df['departure_ts']])"
   ]
  },
  {
   "cell_type": "code",
   "execution_count": null,
   "metadata": {},
   "outputs": [],
   "source": [
    "df[df['departure_ts'] < df['search_ts']][['id', 'search_ts', 'departure_ts']]\n"
   ]
  },
  {
   "attachments": {},
   "cell_type": "markdown",
   "metadata": {},
   "source": [
    "Le service propose des tickets dont la date de départ est antérieur à celle de la date de la recherche."
   ]
  },
  {
   "cell_type": "code",
   "execution_count": null,
   "metadata": {},
   "outputs": [],
   "source": [
    "df.dtypes"
   ]
  },
  {
   "cell_type": "code",
   "execution_count": null,
   "metadata": {},
   "outputs": [],
   "source": [
    "df_middle_stations = pd.DataFrame()\n",
    "df_middle_stations['middle_stations'] = df['middle_stations'].copy()\n",
    "\n",
    "df_middle_stations['middle_stations'] = df_middle_stations['middle_stations'].where(df_middle_stations['middle_stations'].isna(), \"arrêts intermédiaires\")\n",
    "df_middle_stations['middle_stations'] = df_middle_stations['middle_stations'].where(df_middle_stations['middle_stations'].notna(), \"ligne directe\")\n",
    "df_middle_stations[\"middle_stations\"].value_counts().plot(kind='pie'\n",
    "                                        , title=\"Proportion de trajets avec des arrêts intermédiaires ou non\"\n",
    "                                        , ylabel=''\n",
    "                                        , xlabel=''\n",
    "                                        , autopct='%.2f')\n",
    "plt.show()\n"
   ]
  },
  {
   "cell_type": "code",
   "execution_count": null,
   "metadata": {},
   "outputs": [],
   "source": [
    "df_copy = df[df['departure_ts'] > df['search_ts']].copy()\n",
    "df_copy['search_ts'] = pd.to_datetime (df_copy['search_ts'])\n",
    "df_copy['departure_ts'] = pd.to_datetime (df_copy['departure_ts'])\n",
    "df_copy['arrival_ts'] = pd.to_datetime (df_copy['arrival_ts'])\n",
    "\n",
    "df_copy = df_copy.sort_values(by='search_ts')\n",
    "\n",
    "df_copy[['id', 'search_ts', 'departure_ts', 'arrival_ts']].head(5)\n"
   ]
  },
  {
   "cell_type": "code",
   "execution_count": null,
   "metadata": {},
   "outputs": [],
   "source": [
    "df_copy[['id', 'search_ts', 'departure_ts', 'arrival_ts']].tail(5)"
   ]
  },
  {
   "attachments": {},
   "cell_type": "markdown",
   "metadata": {},
   "source": [
    "Les recherches ont été faite entre le 10/01/2017 et le 19/10/2017."
   ]
  },
  {
   "cell_type": "code",
   "execution_count": null,
   "metadata": {},
   "outputs": [],
   "source": [
    "df_copy['time_difference'] = df_copy['search_ts'].diff().dt.total_seconds()\n",
    "print(df_copy['time_difference'].describe())"
   ]
  },
  {
   "attachments": {},
   "cell_type": "markdown",
   "metadata": {},
   "source": [
    "Il y a en moyenne une recherche toute les 21 secondes. <br/>\n",
    "le plus grand intervalle de temps entre 2 recherches est de 27078.821 secondes soit environ 7h50min."
   ]
  },
  {
   "cell_type": "code",
   "execution_count": null,
   "metadata": {},
   "outputs": [],
   "source": [
    "df_plot = df_copy.set_index(df_copy['search_ts'].map(lambda s: s.strftime('%Y-%m-%d')))\n",
    "fig, ax=plt.subplots(figsize=(10,10))\n",
    "df_plot['time_difference'].plot(marker=\"o\"\n",
    "                                , linewidth=0\n",
    "                                , x='search_ts'\n",
    "                                , ylim=[0, df_copy['time_difference'].max()]\n",
    "                                ,rot=30)\n",
    "\n",
    "ax.set_ylabel(\"Différence de temps entre 2 recherches en secondes\")\n",
    "ax.set_xlabel(\"date de la recherche\")\n",
    "ax.set_title(\"Répartition des recherches en fonction du temps\")\n",
    "plt.show()"
   ]
  },
  {
   "cell_type": "code",
   "execution_count": null,
   "metadata": {},
   "outputs": [],
   "source": [
    "df_copy['travel_time'] = (df_copy['arrival_ts'] - df_copy['departure_ts']).dt.total_seconds() / 3600\n",
    "print(df_copy['travel_time'].describe())"
   ]
  },
  {
   "cell_type": "code",
   "execution_count": null,
   "metadata": {},
   "outputs": [],
   "source": [
    "out = pd.cut(df_copy['travel_time']\n",
    "            , bins=[0, 5, 10, 24, 1000]\n",
    "            , include_lowest=True\n",
    "            , labels=['moins de 5h', 'entre 5 et 10h', 'entre 10h et 1j', 'plus de 1j'])\n",
    "out_norm = out.value_counts(sort=False, normalize=True) * 100\n",
    "\n",
    "ax = out_norm.plot(kind='bar'\n",
    "                , rot=0\n",
    "                , figsize=(10,10))\n",
    "ax.set_ylabel(\"nombres de voyages en pourcentage\")\n",
    "ax.set_xlabel(\"durée du trajet\")\n",
    "ax.set_title(\"Durée d'un voyage\")\n",
    "ax.bar_label(ax.containers[0])\n",
    "plt.show()"
   ]
  },
  {
   "cell_type": "code",
   "execution_count": null,
   "metadata": {},
   "outputs": [],
   "source": [
    "df_copy['price_in_cents'].describe()"
   ]
  },
  {
   "cell_type": "code",
   "execution_count": null,
   "metadata": {},
   "outputs": [],
   "source": [
    "fig, ax = plt.subplots(figsize=(10,10))\n",
    "ax = df['price_in_cents'].plot(kind='hist'\n",
    "                            , color='orange'\n",
    "                            , alpha=0.5)\n",
    "df['price_in_cents'].plot(kind='kde'\n",
    "                            , title='Distribution du prix des tickets'\n",
    "                            , ax=ax\n",
    "                            , secondary_y=True\n",
    "                            , color='blue'\n",
    "                            , xlim=[df['price_in_cents'].min(), df['price_in_cents'].max()])\n",
    "ax.set_xlabel(\"prix en centimes\")\n",
    "\n",
    "plt.show()"
   ]
  },
  {
   "cell_type": "code",
   "execution_count": null,
   "metadata": {},
   "outputs": [],
   "source": [
    "companies = df_providers.query('provider_id.isnull()')[['company_id', 'fullname']]\n",
    "df_companies = df_copy.apply(lambda x :get_company_name (x, df_providers, companies), axis=1)"
   ]
  },
  {
   "cell_type": "code",
   "execution_count": null,
   "metadata": {},
   "outputs": [],
   "source": [
    "df_group_count_companies = df_companies.groupby(['company', 'id'], as_index=False).count()"
   ]
  },
  {
   "cell_type": "code",
   "execution_count": null,
   "metadata": {},
   "outputs": [],
   "source": [
    "df_group_count_companies.company.value_counts()"
   ]
  },
  {
   "attachments": {},
   "cell_type": "markdown",
   "metadata": {},
   "source": [
    "Blablacar est la compagnie qui propose le plus de tickets."
   ]
  },
  {
   "cell_type": "code",
   "execution_count": null,
   "metadata": {},
   "outputs": [],
   "source": [
    "ax = df_group_count_companies.company.value_counts().plot(kind='bar'\n",
    "                                            , title='Nombres de tickets en fonction de la compagnie'\n",
    "                                            , figsize=(10,10))\n",
    "ax.set_xlabel('Compagnie')\n",
    "ax.bar_label(ax.containers[0])\n",
    "plt.show()"
   ]
  },
  {
   "cell_type": "code",
   "execution_count": null,
   "metadata": {},
   "outputs": [],
   "source": [
    "plt.figure(figsize=(10,10))\n",
    "ax = sns.boxplot(x=df_companies['company']\n",
    "                , y=df_companies['price_in_cents']\n",
    "                , palette='hls')\n",
    "\n",
    "ax.set_xticklabels(ax.get_xticklabels()\n",
    "                , rotation=30)\n",
    "\n",
    "plt.title('Prix du ticket en fonction de la compagnie')\n",
    "plt.xlabel('Compagnie')\n",
    "plt.ylabel('Prix')\n",
    "plt.show()"
   ]
  },
  {
   "attachments": {},
   "cell_type": "markdown",
   "metadata": {},
   "source": [
    "Blablacar et Distribusion proposent les trajets les moins chers. <br/>\n",
    "Voyages SNCF propose les prix les plus chers."
   ]
  },
  {
   "cell_type": "code",
   "execution_count": null,
   "metadata": {},
   "outputs": [],
   "source": [
    "df_copy = df_copy.apply(count_number_middle_stations, axis=1)"
   ]
  },
  {
   "cell_type": "code",
   "execution_count": null,
   "metadata": {},
   "outputs": [],
   "source": [
    "plt.figure(figsize=(10,10))\n",
    "ax = sns.boxplot(x=df_copy['number_middle_stations']\n",
    "                , y=df_companies['price_in_cents']\n",
    "                , palette='hls')\n",
    "\n",
    "plt.title(\"Prix du ticket en fonction du nombre d'arrêts\")\n",
    "plt.xlabel(\"Nombre d'arrêts\")\n",
    "plt.ylabel('Prix')\n",
    "plt.show()"
   ]
  },
  {
   "attachments": {},
   "cell_type": "markdown",
   "metadata": {},
   "source": [
    "Les trajets avec 4 arrêts sont les plus chers.<br/>\n",
    "Les trajets sans arrêts sont les moins chers."
   ]
  },
  {
   "cell_type": "code",
   "execution_count": null,
   "metadata": {},
   "outputs": [],
   "source": [
    "df_copy['days_left'] = (df_copy['departure_ts'] - df_copy['search_ts']).astype('timedelta64[D]')\n",
    "print(df_copy['days_left'].describe())"
   ]
  },
  {
   "cell_type": "code",
   "execution_count": null,
   "metadata": {},
   "outputs": [],
   "source": [
    "plt.figure(figsize=(20,8))\n",
    "sns.lineplot(data=df_copy,x='days_left',y='price_in_cents',color='blue')\n",
    "plt.title('Prix du ticket en fonction du nombre de jours avant le départ')\n",
    "plt.xlabel('Nombre de jours avant le départ')\n",
    "plt.ylabel('Prix')\n",
    "plt.show()"
   ]
  },
  {
   "cell_type": "code",
   "execution_count": null,
   "metadata": {},
   "outputs": [],
   "source": [
    "bins_distance = [0, 200, 800, 2000, 10000]"
   ]
  },
  {
   "cell_type": "code",
   "execution_count": null,
   "metadata": {},
   "outputs": [],
   "source": [
    "df_copy = df_copy.apply(lambda x: get_time_of_day(x, 'departure_ts'), axis=1)\n",
    "df_copy = df_copy.apply(lambda x: get_time_of_day(x, 'arrival_ts'), axis=1)"
   ]
  },
  {
   "cell_type": "code",
   "execution_count": null,
   "metadata": {},
   "outputs": [],
   "source": [
    "df_copy = df_copy.apply(lambda x: get_distance_between_cities(x, df_cities), axis=1)"
   ]
  },
  {
   "cell_type": "code",
   "execution_count": null,
   "metadata": {},
   "outputs": [],
   "source": [
    "df_copy = df_copy.apply(lambda x: get_info_providers(x, df_providers), axis=1)"
   ]
  },
  {
   "cell_type": "code",
   "execution_count": null,
   "metadata": {},
   "outputs": [],
   "source": [
    "plt.figure(figsize=(10,10))\n",
    "plt.subplot(1,2,1)\n",
    "sns.boxplot(x='departure_ts_time_of_day',y='price_in_cents',data=df_copy)\n",
    "plt.title(\"Prix en fonction de l'heure de départ\")\n",
    "plt.xlabel('Départ - Moment de la journée')\n",
    "plt.ylabel('Prix')\n",
    "\n",
    "plt.subplot(1,2,2)\n",
    "sns.boxplot(x='arrival_ts_time_of_day',y='price_in_cents',data=df_copy)\n",
    "plt.title(\"Prix en fonction de l'heure d'arrivée\")\n",
    "plt.xlabel('Arrivée - Moment de la journée')\n",
    "plt.ylabel('')\n",
    "plt.show()"
   ]
  },
  {
   "attachments": {},
   "cell_type": "markdown",
   "metadata": {},
   "source": [
    "Le prix du trajet est plus cher quand on souhaite partir la nuit. <br/>\n",
    "Le prix du trajet est le moins cher quand on souhaite partir l'après-midi ou le soir. <br/>\n",
    "Le prix du trajet à tendance à être plus élevé quand on souhaite arriver le matin. <br/> \n",
    "Le prix du trajet à tendance à être légèrement moins cher quand on souhaite arriver le soir. <br/>"
   ]
  },
  {
   "cell_type": "code",
   "execution_count": null,
   "metadata": {},
   "outputs": [],
   "source": [
    "df_transport_mean_price = df_copy.groupby (by=['transport_type', pd.cut(df_copy['distance'], bins_distance, labels=['0-200km', '200-800km', '800-2000km', '2000km+'])])['price_in_cents'].mean()\n",
    "df_transport_mean_price.unstack()"
   ]
  },
  {
   "cell_type": "code",
   "execution_count": null,
   "metadata": {},
   "outputs": [],
   "source": [
    "df_transport_mean_travel_time = df_copy.groupby (by=['transport_type', pd.cut(df_copy['distance'], bins_distance, labels=['0-200km', '200-800km', '800-2000km', '2000km+'])])['travel_time'].mean()\n",
    "df_transport_mean_travel_time.unstack()"
   ]
  },
  {
   "cell_type": "code",
   "execution_count": null,
   "metadata": {},
   "outputs": [],
   "source": [
    "df_copy['has_wifi'] = df_copy['has_wifi'].replace ({True:1, False:0})\n",
    "df_copy['has_plug'] = df_copy['has_plug'].replace ({True:1, False:0})\n",
    "df_copy['has_adjustable_seats'] = df_copy['has_adjustable_seats'].replace ({True:1, False:0})\n",
    "df_copy['has_bicycle'] = df_copy['has_bicycle'].replace ({True:1, False:0})"
   ]
  },
  {
   "cell_type": "code",
   "execution_count": null,
   "metadata": {},
   "outputs": [],
   "source": [
    "df_dummies_transport = pd.get_dummies(df_copy['transport_type'])\n",
    "df_corr = pd.concat([df_copy, df_dummies_transport], axis=1)\n",
    "del df_corr['transport_type']"
   ]
  },
  {
   "cell_type": "code",
   "execution_count": null,
   "metadata": {},
   "outputs": [],
   "source": [
    "df_corr.corr()"
   ]
  },
  {
   "attachments": {},
   "cell_type": "markdown",
   "metadata": {},
   "source": [
    "Nous allons conserver les colonnes qui possèdent une corrélation supérieure à 0.15 (en valeur absolue).\n",
    "Les colonnes conservées sont donc :\n",
    "- travel_time\n",
    "- distance\n",
    "- has_adjustable_seats\n",
    "- has_bicycle\n",
    "- carpooling\n",
    "- train\n",
    "- number_middle_stations"
   ]
  },
  {
   "cell_type": "code",
   "execution_count": null,
   "metadata": {},
   "outputs": [],
   "source": [
    "df_to_plot = df_corr[['travel_time', 'distance', 'has_adjustable_seats', 'has_bicycle', 'carpooling', 'train', 'number_middle_stations', 'price_in_cents']]\n",
    "fig, ax = plt.subplots(figsize=(10,10))\n",
    "ax = sns.heatmap(df_to_plot.corr()\n",
    "                , vmin=-1, vmax=1, center=0\n",
    "                , cmap=sns.diverging_palette(20, 220, n=200)\n",
    "                , square=True\n",
    "                , annot=True\n",
    ")\n",
    "ax.set_xticklabels(ax.get_xticklabels()\n",
    "                , rotation=30\n",
    "                , horizontalalignment='right')\n",
    "ax.set_title (\"matrice de corrélations\");"
   ]
  },
  {
   "attachments": {},
   "cell_type": "markdown",
   "metadata": {},
   "source": [
    "La matrice des corrélations affiche des valeurs (corrélations) comprise entre -1 et 1. Lorsque la valeur est proche de +-1, les 2 variables sont dites fortement corrélées. Si la valeur est proche de 0 alors les 2 variables ne sont pas corrélées. <br/>\n",
    "Pour la ligne du prix on peut lire par exemple :\n",
    "- Lorsque la distance du trajet augmente alors le prix du trajet a tendance à monter.\n",
    "- Lorsqu'il y a un rangement pour vélo alors le prix du trajet a tendance à monter.\n",
    "- Lorsque le type de trajet est \"carpooling\" alors le prix du trajet a tendance à diminuer. <br/>\n"
   ]
  },
  {
   "attachments": {},
   "cell_type": "markdown",
   "metadata": {},
   "source": [
    "### Analyses\n",
    "- id : numéro du ticket\n",
    "- company : société qui propose le service\n",
    "- o_station : station d'origine desservie\n",
    "- d_station : station de destination desservie\n",
    "- departure_ts : date de départ\n",
    "- arrival_ts : date d'arrivée\n",
    "- price_in_cents : prix en centimes\n",
    "- search_ts : date de la recherche (date à laquelle le trajet a été proposé sur l'application)\n",
    "- middle_stations : stations intermédiaires\n",
    "- other_companies : autres sociétés\n",
    "- o_city : ville de départ\n",
    "- d_city : ville d'arrivée\n",
    "\n",
    "o_city et d_city correspondent respectivement au point de départ et au point d'arrivée d'un trajet (de A -> B). On peut retrouver des infos sur ces points dans le fichier cities. <br/>\n",
    "o_station et d_stations correspondent aux stations desservies. On peut retrouver sdes infos sur ces stations dans le fichier stations.<br/>\n",
    "On remarque des valeurs NaN sur 4 colonnes : o_station, d_station, middle_stations, other_companies.<br/>\n",
    "Ces 4 colonnes sont corrélées à la société de transport. En effet, on remarque que lorsque la société propose des voitures en tant que moyen de transport (ligne 0), les 4 colonnes semblent avoir la valeur NaN.<br/>\n",
    "De même, lorsque la société propose un train en tant que moyen de transport (ligne 2), les 4 colonnes semblent avoir des valeurs.<br/>\n",
    "Cette observation parait logique puisque un voyage en train a pour habitude d'avoir des arrêts (sauf train direct) alors que faire du covoiturage limite les chances d'avoir des arrêts intermédiaires."
   ]
  },
  {
   "attachments": {},
   "cell_type": "markdown",
   "metadata": {},
   "source": [
    "### Data Preparation"
   ]
  },
  {
   "cell_type": "code",
   "execution_count": null,
   "metadata": {},
   "outputs": [],
   "source": [
    "df_regression = df_corr[['travel_time', 'distance', 'has_adjustable_seats', 'has_bicycle', 'carpooling', 'train', 'price_in_cents']]\n",
    "df_regression = df_regression.fillna(0)"
   ]
  },
  {
   "cell_type": "code",
   "execution_count": null,
   "metadata": {},
   "outputs": [],
   "source": [
    "df_regression[['travel_time', 'distance']].plot(subplots=True, layout=(1,2), figsize=(10,10))\n",
    "plt.show()"
   ]
  },
  {
   "cell_type": "code",
   "execution_count": null,
   "metadata": {},
   "outputs": [],
   "source": [
    "df_regression"
   ]
  },
  {
   "cell_type": "code",
   "execution_count": null,
   "metadata": {},
   "outputs": [],
   "source": [
    "X_train, X_test, Y_train, Y_test = create_train_test_set(df_regression)"
   ]
  },
  {
   "attachments": {},
   "cell_type": "markdown",
   "metadata": {},
   "source": [
    "### Training"
   ]
  },
  {
   "cell_type": "code",
   "execution_count": null,
   "metadata": {},
   "outputs": [],
   "source": [
    "NUMBER_FOLDS = 10\n",
    "SEED = 42\n",
    "kfolds = KFold(n_splits=NUMBER_FOLDS, random_state=SEED, shuffle=True)\n",
    "\n",
    "models= {'LinearRegression' : LinearRegression()\n",
    "        , 'DecisionTreeRegressor' : DecisionTreeRegressor()\n",
    "        , 'RandomForestRegressor' : RandomForestRegressor()\n",
    "        , 'Ridge' : Ridge()\n",
    "        , 'Lasso' : Lasso()\n",
    "}\n",
    "scores = {}\n",
    "scoring = ['neg_root_mean_squared_error', 'neg_mean_squared_error', 'neg_mean_absolute_error']\n",
    "for key in models.keys():\n",
    "        score = cross_validate(models[key], X_train, Y_train, cv=kfolds, scoring=scoring, return_estimator=True)\n",
    "        scores[key] = score"
   ]
  },
  {
   "cell_type": "code",
   "execution_count": null,
   "metadata": {},
   "outputs": [],
   "source": [
    "RMSE_values = {}\n",
    "for key in scores.keys():\n",
    "    print (key)\n",
    "    print('Validation Mean Squared Error:', round(scores[key]['test_neg_mean_squared_error'].mean(), 2)) \n",
    "    print(\"Validation RMSE: \",round(scores[key]['test_neg_root_mean_squared_error'].mean(),2))\n",
    "    print(\"Validation MAE: \",round(scores[key]['test_neg_mean_absolute_error'].mean(),2))\n",
    "    print(' ')\n",
    "    RMSE_values[key] = round(scores[key]['test_neg_root_mean_squared_error'].mean(),2)\n",
    "\n",
    "best_model = min(RMSE_values, key=lambda x:abs(0 - RMSE_values[x]))\n",
    "print (f\"Meilleur modèle en comparant le RMSE : {best_model}\")\n"
   ]
  },
  {
   "cell_type": "code",
   "execution_count": null,
   "metadata": {},
   "outputs": [],
   "source": [
    "parameters_LR = {}\n",
    "\n",
    "parameters_DTR = {\"max_depth\" : [1, 3, 5]\n",
    "                , \"min_samples_leaf\":[1, 2, 3]\n",
    "                , \"max_leaf_nodes\":[None, 10, 20, 30]}\n",
    "\n",
    "parameters_RFR = {\"max_depth\" : [1, 3, 5]\n",
    "                , \"min_samples_split\" : [2, 4, 6]\n",
    "                , \"min_samples_leaf\":[1, 2, 3]}\n",
    "\n",
    "parameters_Ridge = {'alpha':[200, 230, 250,265, 270, 275, 290, 300, 500]}\n",
    "\n",
    "parameters_Lasso = {'alpha':[0.02, 0.024, 0.025, 0.026, 0.03]}\n",
    "\n",
    "parameters = {'LinearRegression' : parameters_LR\n",
    "        , 'DecisionTreeRegressor' : parameters_DTR\n",
    "        , 'RandomForestRegressor' : parameters_RFR\n",
    "        , 'Ridge' : parameters_Ridge\n",
    "        , 'Lasso' : parameters_Lasso\n",
    "}\n",
    "\n",
    "tuning_model = GridSearchCV(models[best_model]\n",
    "                        , param_grid=parameters[best_model]\n",
    "                        , scoring=scoring\n",
    "                        , cv=kfolds\n",
    "                        , refit='neg_root_mean_squared_error')\n",
    "tuning_model.fit(X_train, Y_train)\n",
    "print (tuning_model.best_params_)"
   ]
  },
  {
   "attachments": {},
   "cell_type": "markdown",
   "metadata": {},
   "source": [
    "### Evaluation"
   ]
  },
  {
   "cell_type": "code",
   "execution_count": null,
   "metadata": {},
   "outputs": [],
   "source": [
    "if best_model == 'LinearRegression':\n",
    "    tuned_model = LinearRegression(**tuning_model.best_params_)\n",
    "    model = LinearRegression()\n",
    "elif best_model == 'DecisionTreeRegressor':\n",
    "    tuned_model = DecisionTreeRegressor(**tuning_model.best_params_)\n",
    "    model = DecisionTreeRegressor()\n",
    "elif best_model == 'RandomForestRegressor':\n",
    "    tuned_model = RandomForestRegressor(**tuning_model.best_params_)\n",
    "    model = RandomForestRegressor()\n",
    "elif best_model == 'Ridge':\n",
    "    tuned_model = Ridge(**tuning_model.best_params_)\n",
    "    model = Ridge()\n",
    "elif best_model == 'Lasso':\n",
    "    tuned_model = Lasso(**tuning_model.best_params_)\n",
    "    model = Lasso()\n",
    "\n",
    "tuned_model.fit(X_train, Y_train)\n",
    "Y_train_pred = tuned_model.predict(X_train)\n",
    "Y_test_pred = tuned_model.predict(X_test)\n",
    "\n",
    "model.fit(X_train, Y_train)\n",
    "Y_train_pred_2 = model.predict(X_train)\n",
    "Y_test_pred_2 = model.predict(X_test)"
   ]
  },
  {
   "cell_type": "code",
   "execution_count": null,
   "metadata": {},
   "outputs": [],
   "source": [
    "print ('Score AVEC hyperparametres: ')\n",
    "print('Training Mean Squared Error:', round(metrics.mean_squared_error(Y_train,Y_train_pred), 2)) \n",
    "print(\"Training RMSE: \", round(np.sqrt(metrics.mean_squared_error(Y_train,Y_train_pred)),2))\n",
    "print(\"Training MAE: \" ,round(metrics.mean_absolute_error(Y_train,Y_train_pred),2))\n",
    "\n",
    "print(' ')\n",
    "\n",
    "print('Test Mean Squared Error:', round(metrics.mean_squared_error(Y_test,Y_test_pred), 2)) \n",
    "print(\"Test RMSE: \", round(np.sqrt(metrics.mean_squared_error(Y_test,Y_test_pred)),2))\n",
    "print(\"Test MAE: \", round(metrics.mean_absolute_error(Y_test,Y_test_pred),2))\n",
    "\n",
    "print(' ')\n",
    "\n",
    "print ('Score SANS hyperparametres: ')\n",
    "print('Training Mean Squared Error:', round(metrics.mean_squared_error(Y_train,Y_train_pred_2), 2)) \n",
    "print(\"Training RMSE: \", round(np.sqrt(metrics.mean_squared_error(Y_train,Y_train_pred_2)),2))\n",
    "print(\"Training MAE: \" ,round(metrics.mean_absolute_error(Y_train,Y_train_pred_2),2))\n",
    "\n",
    "print(' ')\n",
    "\n",
    "print('Test Mean Squared Error:', round(metrics.mean_squared_error(Y_test,Y_test_pred_2), 2)) \n",
    "print(\"Test RMSE: \", round(np.sqrt(metrics.mean_squared_error(Y_test,Y_test_pred_2)),2))\n",
    "print(\"Test MAE: \", round(metrics.mean_absolute_error(Y_test,Y_test_pred_2),2))"
   ]
  },
  {
   "attachments": {},
   "cell_type": "markdown",
   "metadata": {},
   "source": [
    "Ces 3 métriques représentent l'erreur moyenne entre la valeur originale et la valeur prédite. Une erreur de 0 signifie que le modèle est parfait. <br/>\n",
    "Pour sélectionner le modèle, on cherche à minimiser ces métriques. <br/>\n",
    "Le modèle sans l'hyperparamétrage est meilleur."
   ]
  },
  {
   "cell_type": "code",
   "execution_count": null,
   "metadata": {},
   "outputs": [],
   "source": [
    "df_pred = pd.DataFrame(Y_test.values, columns=['Verite'], index=Y_test.index)\n",
    "df_pred['Prediction'] = Y_test_pred_2\n",
    "df_pred = df_pred.reset_index()\n",
    "df_pred"
   ]
  },
  {
   "cell_type": "code",
   "execution_count": null,
   "metadata": {},
   "outputs": [],
   "source": [
    "df_pred[['Verite', 'Prediction']].plot(figsize=(15,10)\n",
    "                                        , title='Comparaison des valeurs prédites avec les vraies valeurs'\n",
    "                                        , xlabel='index de la valeur prédite'\n",
    "                                        , ylabel='prix')\n",
    "plt.show()"
   ]
  },
  {
   "cell_type": "code",
   "execution_count": null,
   "metadata": {},
   "outputs": [],
   "source": [
    "df_copy.to_csv('../data/cleaned/ticket_data_cleaned.csv')"
   ]
  }
 ],
 "metadata": {
  "kernelspec": {
   "display_name": "Python 3",
   "language": "python",
   "name": "python3"
  },
  "language_info": {
   "codemirror_mode": {
    "name": "ipython",
    "version": 3
   },
   "file_extension": ".py",
   "mimetype": "text/x-python",
   "name": "python",
   "nbconvert_exporter": "python",
   "pygments_lexer": "ipython3",
   "version": "3.8.10"
  },
  "orig_nbformat": 4
 },
 "nbformat": 4,
 "nbformat_minor": 2
}
